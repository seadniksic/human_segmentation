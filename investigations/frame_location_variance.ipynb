{
 "cells": [
  {
   "cell_type": "code",
   "execution_count": 1,
   "metadata": {},
   "outputs": [],
   "source": [
    "import scipy.io as sio\n",
    "from PIL import Image\n",
    "import cv2\n",
    "import numpy as np\n",
    "import os\n",
    "import pickle\n",
    "\n",
    "ANNOTATION_PATH = \"..\\\\data\\\\AHP\\\\AHP\\\\train\\\\Annotations\\\\\"\n",
    "IMAGE_PATH = \"..\\\\data\\\\AHP\\\\AHP\\\\train\\\\JPEGImages\\\\\"\n",
    "TRAIN_MAPPING = \"data\\\\AHP\\\\train_annotations.pkl\"\n",
    "TEST_MAPPING = \"data\\\\AHP\\\\test_annotations.pkl\"\n",
    "IMG_DIR = \"data\\\\AHP\\\\AHP\\\\train\\\\Processed_Images\"\n",
    "GT_DIR = \"data\\\\AHP\\\\AHP\\\\train\\\\Processed_Annotations\""
   ]
  },
  {
   "cell_type": "code",
   "execution_count": 22,
   "metadata": {},
   "outputs": [
    {
     "ename": "TypeError",
     "evalue": "ufunc 'exp' not supported for the input types, and the inputs could not be safely coerced to any supported types according to the casting rule ''safe''",
     "output_type": "error",
     "traceback": [
      "\u001b[1;31m---------------------------------------------------------------------------\u001b[0m",
      "\u001b[1;31mTypeError\u001b[0m                                 Traceback (most recent call last)",
      "Cell \u001b[1;32mIn[22], line 32\u001b[0m\n\u001b[0;32m     28\u001b[0m x \u001b[39m=\u001b[39m {q: p \u001b[39m/\u001b[39m \u001b[39mlen\u001b[39m(imgs) \u001b[39mfor\u001b[39;00m q, p \u001b[39min\u001b[39;00m proportions_total\u001b[39m.\u001b[39mitems()}\n\u001b[0;32m     30\u001b[0m h \u001b[39m=\u001b[39m [p \u001b[39mfor\u001b[39;00m q, p \u001b[39min\u001b[39;00m x]\n\u001b[1;32m---> 32\u001b[0m h_softmax \u001b[39m=\u001b[39m np\u001b[39m.\u001b[39;49mexp(h)\u001b[39m/\u001b[39m\u001b[39msum\u001b[39m(np\u001b[39m.\u001b[39mexp(h))\n\u001b[0;32m     34\u001b[0m {i: item_sm \u001b[39mfor\u001b[39;00m i, item_sm \u001b[39min\u001b[39;00m \u001b[39menumerate\u001b[39m(h_softmax)}\n",
      "\u001b[1;31mTypeError\u001b[0m: ufunc 'exp' not supported for the input types, and the inputs could not be safely coerced to any supported types according to the casting rule ''safe''"
     ]
    }
   ],
   "source": [
    "''' Get average proportion of pixels in each quadrant that are human '''\n",
    "\n",
    "imgs = os.listdir(ANNOTATION_PATH)\n",
    "\n",
    "proportions_total = {\"00\": 0, \"01\": 0, \"02\": 0, \"10\": 0, \"11\": 0, \"12\":0, \"20\": 0, \"21\": 0, \"22\":0}\n",
    "\n",
    "for img in imgs:\n",
    "    sample = cv2.cvtColor(cv2.imread(ANNOTATION_PATH + img), cv2.COLOR_BGR2RGB)[:,:,0]\n",
    "    height, width = sample.shape\n",
    "    sample[sample > 1] = 1\n",
    "\n",
    "\n",
    "    rows_step = int(height / 3)\n",
    "    cols_step = int(width / 3)\n",
    "\n",
    "    for i in range(3):\n",
    "        for j in range(3):\n",
    "            subarray = sample[i*rows_step:(i+1)*rows_step, j*cols_step:(j+1)*cols_step]\n",
    "            # print(subarray.shape)\n",
    "            w, h = subarray.shape\n",
    "            total_pixels = w * h\n",
    "            total_human_pixels = np.sum(subarray)\n",
    "\n",
    "\n",
    "            proportions_total[str(i) + str(j)] += (total_human_pixels / total_pixels)\n",
    "\n",
    "x = {q: p / len(imgs) for q, p in proportions_total.items()}\n"
   ]
  },
  {
   "cell_type": "code",
   "execution_count": 9,
   "metadata": {},
   "outputs": [],
   "source": [
    "'''Augment Dataset with translated images'''\n",
    "\n",
    "import matplotlib.pyplot as plt\n",
    "\n",
    "imgs = os.listdir(ANNOTATION_PATH)\n",
    "\n",
    "proportions_total = {\"00\": 0, \"01\": 0, \"02\": 0, \"10\": 0, \"11\": 0, \"12\":0, \"20\": 0, \"21\": 0, \"22\":0}\n",
    "\n",
    "\n",
    "\n",
    "for num, img in enumerate(imgs):\n",
    "    annot = cv2.imread(ANNOTATION_PATH + img)\n",
    "    image = cv2.imread(IMAGE_PATH + img.split(\".\")[0] + \".jpg\")\n",
    "    height, width, channels= annot.shape\n",
    "\n",
    "  \n",
    "\n",
    "    if num < 10000:\n",
    "        # Creating a translation matrix\n",
    "        translation_matrix = np.float32([ [1,0,int(width/3)], [0,1,0] ])\n",
    "        # Image translation\n",
    "        img_translation = cv2.warpAffine(image, translation_matrix, (width,height))\n",
    "        annot_translation = cv2.warpAffine(annot, translation_matrix, (width,height))\n",
    "\n",
    "        cv2.imwrite(IMAGE_PATH + img.split(\".\")[0] + \"_righttranslated.jpg\", img_translation, )\n",
    "        cv2.imwrite(ANNOTATION_PATH + img.split(\".\")[0] + \"_righttranslated.png\", annot_translation)\n",
    "\n",
    "    if num > 10000:\n",
    "        # Creating a translation matrix\n",
    "        translation_matrix = np.float32([ [1,0,-int(width/3)], [0,1,0] ])\n",
    "        # Image translation\n",
    "        img_translation = cv2.warpAffine(image, translation_matrix, (width,height))\n",
    "        annot_translation = cv2.warpAffine(annot, translation_matrix, (width,height))\n",
    "\n",
    "        cv2.imwrite(IMAGE_PATH + img.split(\".\")[0] + \"_lefttranslated.jpg\", img_translation)\n",
    "        cv2.imwrite(ANNOTATION_PATH + img.split(\".\")[0] + \"_lefttranslated.png\", annot_translation)\n",
    "\n",
    "    if num > 20000: break"
   ]
  },
  {
   "cell_type": "code",
   "execution_count": null,
   "metadata": {},
   "outputs": [],
   "source": []
  }
 ],
 "metadata": {
  "kernelspec": {
   "display_name": "senior_design",
   "language": "python",
   "name": "python3"
  },
  "language_info": {
   "codemirror_mode": {
    "name": "ipython",
    "version": 3
   },
   "file_extension": ".py",
   "mimetype": "text/x-python",
   "name": "python",
   "nbconvert_exporter": "python",
   "pygments_lexer": "ipython3",
   "version": "3.9.0"
  },
  "orig_nbformat": 4
 },
 "nbformat": 4,
 "nbformat_minor": 2
}
