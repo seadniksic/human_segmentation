{
 "cells": [
  {
   "cell_type": "code",
   "execution_count": null,
   "metadata": {},
   "outputs": [],
   "source": [
    "import torch\n",
    "from AHP_Dataset import AHP_Dataset as AHP\n",
    "from custom_models.SS_v1 import SS_v1\n",
    "import SupervisedMLFramework as sml\n",
    "import matplotlib.pyplot as plt\n",
    "from custom_models.unet_batchnorm import UNet\n",
    "import time\n",
    "\n",
    "TRAIN_MAPPING = \"data\\\\AHP\\\\train_annotations.pkl\"\n",
    "TEST_MAPPING = \"data\\\\AHP\\\\test_annotations.pkl\"\n",
    "IMG_DIR = \"data\\\\AHP\\\\AHP\\\\train\\\\Processed_Images\"\n",
    "GT_DIR = \"data\\\\AHP\\\\AHP\\\\train\\\\Processed_Annotations\""
   ]
  },
  {
   "cell_type": "code",
   "execution_count": null,
   "metadata": {},
   "outputs": [],
   "source": [
    "file_path = \"C:\\\\Users\\\\sayba\\\\Documents\\\\University\\\\Spring_2023_T8\\\\1896\\\\human_segmentation\\\\checkpoints\\\\long_trains\\\\UNet_Standard_BatchNorm.pt\"\n",
    "\n",
    "model_save = torch.load(file_path)"
   ]
  },
  {
   "cell_type": "code",
   "execution_count": null,
   "metadata": {},
   "outputs": [],
   "source": [
    "model = UNet()\n",
    "model.load_state_dict(model_save['model_state_dict'])\n",
    "test_dataset = AHP(TEST_MAPPING, IMG_DIR, GT_DIR)\n",
    "train_dataset = AHP(TRAIN_MAPPING, IMG_DIR, GT_DIR)\n",
    "\n",
    "model = sml.SupervisedMLFramework(\"eval\", model, None, None, init_weights=False, batch_size=32)\n",
    "\n",
    "\n",
    "avg_percent_pixels_correct = 0\n",
    "for i, (X, y) in enumerate(test_dataset):\n",
    "\n",
    "    if i==24:\n",
    "        break\n",
    "\n",
    "    fig, axs = plt.subplots(1,4)\n",
    "    fig.set_size_inches(15,20)\n",
    "\n",
    "    axs[0].imshow(X.permute(1,2,0))\n",
    "    axs[0].set_xlabel(\"Original Input\")\n",
    "\n",
    "    axs[1].imshow(y)\n",
    "    axs[1].set_xlabel(\"Original Ground Truth\")\n",
    "\n",
    "\n",
    "    X = torch.unsqueeze(X, dim=0)\n",
    "    y = torch.unsqueeze(y, dim=0)\n",
    "\n",
    "    now = time.time()\n",
    "\n",
    "    pred = model.predict(X)\n",
    "\n",
    "    print(f\"prediction time: {time.time() - now}\")\n",
    "    axs[2].imshow(pred)\n",
    "    axs[2].set_xlabel(\"Predicted Classes After Training\")\n",
    "\n",
    "    axs[3].imshow(torch.squeeze(torch.unsqueeze(pred, dim=0) == y))\n",
    "    axs[3].set_xlabel(\"Correctly predicted pixels\")\n",
    "    plt.show()\n",
    "    #print(torch.unsqueeze(pred, dim=0).shape)\n",
    "    # print(y.shape)\n",
    "    avg_percent_pixels_correct += torch.sum(torch.unsqueeze(pred, dim=0) == y) / y.shape[1]**2\n",
    "\n",
    "print(avg_percent_pixels_correct / 24)\n",
    "#print(avg_percent_pixels_correct)\n",
    "#print(pred.shape)\n",
    "# print(pred.shape)\n",
    "# print(y.shape)"
   ]
  }
 ],
 "metadata": {
  "kernelspec": {
   "display_name": "senior_design",
   "language": "python",
   "name": "python3"
  },
  "language_info": {
   "codemirror_mode": {
    "name": "ipython",
    "version": 3
   },
   "file_extension": ".py",
   "mimetype": "text/x-python",
   "name": "python",
   "nbconvert_exporter": "python",
   "pygments_lexer": "ipython3",
   "version": "3.9.0"
  },
  "orig_nbformat": 4
 },
 "nbformat": 4,
 "nbformat_minor": 2
}
